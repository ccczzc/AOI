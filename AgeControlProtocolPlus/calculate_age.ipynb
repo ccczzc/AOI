{
 "cells": [
  {
   "cell_type": "code",
   "execution_count": null,
   "metadata": {},
   "outputs": [],
   "source": [
    "import csv\n",
    "from collections import defaultdict\n",
    "\n",
    "def compute_average_age_by_ip_and_port(filename):\n",
    "    ip_port_data = defaultdict(list)\n",
    "\n",
    "    with open(filename, 'r', encoding='utf-8') as f:\n",
    "        reader = csv.DictReader(f, delimiter=';')\n",
    "        for row in reader:\n",
    "            ip = row['IP']\n",
    "            port = row['Port']\n",
    "            current_timestamp = float(row['CurrentTimestamp'])\n",
    "            source_timestamp = float(row['Timestamp'])\n",
    "            packet_size = int(row['PacketSize'])\n",
    "            if packet_size == 64:\n",
    "                continue\n",
    "            ip_port_data[(ip, port)].append((current_timestamp, source_timestamp))\n",
    "\n",
    "    mean_ages = []\n",
    "    for key, value in ip_port_data.items():\n",
    "        # print(f\"\\n\\nProcessing {key}...\")\n",
    "        begin_timestamp = value[0][0]\n",
    "        last_timestamp, last_source_timestamp = value[0]\n",
    "        # print(f\"begin_age: {last_age}\")\n",
    "        total_age = 0.0\n",
    "        for i in range(1, len(value)):\n",
    "            current_timestamp, current_source_timestamp = value[i]\n",
    "            if current_source_timestamp < last_source_timestamp:\n",
    "                continue\n",
    "            current_age = current_timestamp - last_source_timestamp\n",
    "            # print(f\"current_age rise to: {current_age}\")\n",
    "            current_age_area = (current_timestamp - last_timestamp) * (last_timestamp - last_source_timestamp + current_age) / 2\n",
    "            total_age += current_age_area\n",
    "            last_timestamp, last_source_timestamp = current_timestamp, current_source_timestamp\n",
    "            # print(f\"current_age drop to: {last_age}\")\n",
    "        # print(f\"Total time: {current_timestamp - begin_timestamp}\")\n",
    "        average_age = total_age / (current_timestamp - begin_timestamp)\n",
    "        print(f'{key}, Average age: {average_age} seconds')\n",
    "        mean_ages.append(average_age)\n",
    "    mean_average_age = sum(mean_ages) / len(mean_ages)\n",
    "    print(f'Mean average age: {mean_average_age} seconds')\n",
    "\n",
    "\n",
    "\n",
    "if __name__ == \"__main__\":\n",
    "    compute_average_age_by_ip_and_port(\"./Log/Server_log.txt\")"
   ]
  }
 ],
 "metadata": {
  "kernelspec": {
   "display_name": "usr",
   "language": "python",
   "name": "python3"
  },
  "language_info": {
   "name": "python",
   "version": "3.8.5"
  }
 },
 "nbformat": 4,
 "nbformat_minor": 2
}
